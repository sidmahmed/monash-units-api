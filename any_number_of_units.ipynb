{
 "cells": [
  {
   "cell_type": "code",
   "execution_count": 1,
   "id": "b8239a36-23c5-456d-a2fe-ceee32c023df",
   "metadata": {},
   "outputs": [],
   "source": [
    "import requests\n",
    "import json"
   ]
  },
  {
   "cell_type": "code",
   "execution_count": 2,
   "id": "aa965314-19f5-4806-8f93-7d80c6f334ad",
   "metadata": {},
   "outputs": [],
   "source": [
    "api_url = \"https://handbook.monash.edu/api/es/search\""
   ]
  },
  {
   "cell_type": "code",
   "execution_count": 28,
   "id": "2f0f33d0-61a7-4c4c-ae27-2f6cf7c12630",
   "metadata": {},
   "outputs": [],
   "source": [
    "request_json = {\n",
    "    \"query\": {\n",
    "        \"bool\": {\n",
    "            \"must\": [\n",
    "                {\"term\": {\"live\": True}},\n",
    "                [\n",
    "                    {\n",
    "                        \"bool\": {\n",
    "                            \"minimum_should_match\": \"100%\",\n",
    "                            \"should\": [\n",
    "                                {\n",
    "                                    \"query_string\": {\n",
    "                                        \"fields\": [\n",
    "                                            \"monash2_psubject.implementationYear\"\n",
    "                                        ],\n",
    "                                        \"query\": \"*2022*\",\n",
    "                                    }\n",
    "                                }\n",
    "                            ],\n",
    "                        }\n",
    "                    }\n",
    "                ],\n",
    "            ],\n",
    "            \"filter\": [{\"terms\": {\"contenttype\": [\"monash2_psubject\"]}}],\n",
    "        }\n",
    "    },\n",
    "    \"sort\": [{\"monash2_psubject.code_dotraw\": {\"order\": \"asc\"}}],\n",
    "    \"from\": 0,\n",
    "    \"size\": 50, # change this line to however many units you want to get back in 1 call\n",
    "    \"track_scores\": True,\n",
    "    \"_source\": {\n",
    "        \"includes\": [\n",
    "            \"*.code\",\n",
    "            \"*.name\",\n",
    "            \"*.award_titles\",\n",
    "            \"*.keywords\",\n",
    "            \"urlmap\",\n",
    "            \"contenttype\",\n",
    "        ],\n",
    "        \"excludes\": [\"\", None],\n",
    "    },\n",
    "}\n"
   ]
  },
  {
   "cell_type": "code",
   "execution_count": 29,
   "id": "5fd2152f-e468-4601-925b-6e8339f6a76f",
   "metadata": {},
   "outputs": [],
   "source": [
    "response = requests.post(api_url, json=request_json)"
   ]
  },
  {
   "cell_type": "code",
   "execution_count": 30,
   "id": "110c277a-1c9a-48fd-8518-89f783ce425b",
   "metadata": {},
   "outputs": [],
   "source": [
    "response_json = response.json()"
   ]
  },
  {
   "cell_type": "code",
   "execution_count": 31,
   "id": "d7d894b7-728d-4afe-892f-890e8e58cdba",
   "metadata": {},
   "outputs": [
    {
     "data": {
      "text/plain": [
       "50"
      ]
     },
     "execution_count": 31,
     "metadata": {},
     "output_type": "execute_result"
    }
   ],
   "source": [
    "len(response_json[\"contentlets\"])"
   ]
  },
  {
   "cell_type": "code",
   "execution_count": 32,
   "id": "f93f75a0-3adb-4e92-8e08-5d3f448a4c6d",
   "metadata": {},
   "outputs": [],
   "source": [
    "unit_data_str = response_json[\"contentlets\"][-1][\"data\"]"
   ]
  },
  {
   "cell_type": "code",
   "execution_count": 33,
   "id": "72a4dd95-1c7b-41d0-8440-3d4e9d0783ca",
   "metadata": {},
   "outputs": [],
   "source": [
    "unit_data_dict = json.loads(unit_data_str)"
   ]
  },
  {
   "cell_type": "code",
   "execution_count": 34,
   "id": "ba0a0e6f-3ddc-4df4-96d2-37194f3b62fd",
   "metadata": {},
   "outputs": [
    {
     "data": {
      "text/plain": [
       "'ACW2120'"
      ]
     },
     "execution_count": 34,
     "metadata": {},
     "output_type": "execute_result"
    }
   ],
   "source": [
    "unit_data_dict[\"unit_code\"]"
   ]
  }
 ],
 "metadata": {
  "kernelspec": {
   "display_name": "Python 3 (ipykernel)",
   "language": "python",
   "name": "python3"
  },
  "language_info": {
   "codemirror_mode": {
    "name": "ipython",
    "version": 3
   },
   "file_extension": ".py",
   "mimetype": "text/x-python",
   "name": "python",
   "nbconvert_exporter": "python",
   "pygments_lexer": "ipython3",
   "version": "3.10.5"
  }
 },
 "nbformat": 4,
 "nbformat_minor": 5
}
