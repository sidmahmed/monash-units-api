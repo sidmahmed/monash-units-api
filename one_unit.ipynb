{
 "cells": [
  {
   "cell_type": "code",
   "execution_count": 15,
   "id": "b70a2085-1f4b-4e4f-b2a4-f253c7057d34",
   "metadata": {},
   "outputs": [],
   "source": [
    "import requests\n",
    "import json"
   ]
  },
  {
   "cell_type": "code",
   "execution_count": 88,
   "id": "8e37d085-39e4-4904-9f70-3385b6efadea",
   "metadata": {},
   "outputs": [],
   "source": [
    "api_url = \"https://handbook.monash.edu/api/es/search\"\n",
    "request_json = {\n",
    "    \"query\": {\n",
    "        \"bool\": {\n",
    "            \"must\": [\n",
    "                {\"query_string\": {\"query\": \"monash2_psubject.code: ACB1020\"}},\n",
    "                {\"term\": {\"live\": True}},\n",
    "            ]\n",
    "        }\n",
    "    },\n",
    "    \"aggs\": {\n",
    "        \"implementationYear\": {\n",
    "            \"terms\": {\n",
    "                \"field\": \"monash2_psubject.implementationYear_dotraw\",\n",
    "                \"size\": 100,\n",
    "            }\n",
    "        },\n",
    "        \"availableInYears\": {\n",
    "            \"terms\": {\"field\": \"monash2_psubject.availableInYears_dotraw\", \"size\": 100}\n",
    "        },\n",
    "    },\n",
    "    \"size\": 100,\n",
    "    \"_source\": {\n",
    "        \"includes\": [\"versionNumber\", \"availableInYears\", \"implementationYear\"]\n",
    "    },\n",
    "}\n"
   ]
  },
  {
   "cell_type": "code",
   "execution_count": 66,
   "id": "b3e8147f-1486-4c52-bdf6-859444e9f2b8",
   "metadata": {},
   "outputs": [],
   "source": [
    "response = requests.post(api_url, json=request_json)"
   ]
  },
  {
   "cell_type": "code",
   "execution_count": 67,
   "id": "fb995f66-b261-4495-a302-3573a84b514c",
   "metadata": {},
   "outputs": [],
   "source": [
    "response_json = response.json()"
   ]
  },
  {
   "cell_type": "code",
   "execution_count": 68,
   "id": "11875a34-1c41-4219-af39-15c0df025912",
   "metadata": {},
   "outputs": [],
   "source": [
    "data_str = response_json[\"contentlets\"][-1][\"data\"]"
   ]
  },
  {
   "cell_type": "code",
   "execution_count": 69,
   "id": "27f2594a-36f7-4a87-9f89-38e94eed8831",
   "metadata": {},
   "outputs": [],
   "source": [
    "data_dict = json.loads(data_str)"
   ]
  },
  {
   "cell_type": "code",
   "execution_count": 70,
   "id": "93841ad1-5f4a-44b3-9f2e-191ad951827c",
   "metadata": {},
   "outputs": [
    {
     "data": {
      "text/plain": [
       "dict_keys(['published_in_handbook', 'implementation_year', 'duration_ft_max', 'asced_detailed', 'grading_schema', 'study_level', 'quota_enrolment_requirements', 'status', 'duration_pt_max', 'duration_pt_std', 'credit_points', 'parent_id', 'start_date', 'exclusions', 'unit_code', 'academic_org', 'sms_version', 'level', 'uac_code', 'special_requirements', 'duration_pt_min', 'special_unit_type', 'title', 'duration_ft_std', 'version', 'learning_experiences', 'duration_ft_min', 'callista_version', 'duration_ft_period', 'asced_narrow', 'subclass', 'type', 'quota_rationale', 'version_name', 'timetable_this_unit', 'work_integrated_learning', 'cl_id', 'school', 'content', 'learning_and_teaching_resources', 'collaborating_disciplines', 'repeatable', 'overview', 'end_date', 'duration_pt_period', 'sms_status', 'learning_materials', 'special_topic', 'asced_broad', 'publish_tuition_fees', 'placement_proportion', 'code', 'other_unit_costs', 'eftsl', 'contact_information', 'highest_sca_band', 'lo_additional_information', 'handbook_assessment_summary', 'quota_information', 'fieldwork', 'area_of_study_links', 'attendance_requirements', 'workload_requirements', 'handbook_synopsis', 'special_note_to_students', 'undergrad_postgrad_both', 'unit_learning_outcomes', 'school_org_unit_data', 'assessments', 'enrolment_rules', 'requisites', 'unit_offering', 'enrolment_rules_group', 'learning_resources_grouped', 'study_abroad_unit', 'academic_item_type', 'learning_activities_grouped', 'search_title', 'unit_search_title', 'teaching_approaches', 'academic_contact_roles', 'links'])"
      ]
     },
     "execution_count": 70,
     "metadata": {},
     "output_type": "execute_result"
    }
   ],
   "source": [
    "data_json.keys()"
   ]
  },
  {
   "cell_type": "code",
   "execution_count": 71,
   "id": "1c1e3d73-57e1-48f4-81c5-2587194da6e7",
   "metadata": {},
   "outputs": [
    {
     "data": {
      "text/plain": [
       "'2022'"
      ]
     },
     "execution_count": 71,
     "metadata": {},
     "output_type": "execute_result"
    }
   ],
   "source": [
    "data_dict[\"implementation_year\"]"
   ]
  },
  {
   "cell_type": "code",
   "execution_count": 72,
   "id": "2550fcaa-9c2f-4c2e-8be0-21bb634c7335",
   "metadata": {},
   "outputs": [
    {
     "data": {
      "text/plain": [
       "'ACB1020'"
      ]
     },
     "execution_count": 72,
     "metadata": {},
     "output_type": "execute_result"
    }
   ],
   "source": [
    "data_dict[\"unit_code\"]"
   ]
  },
  {
   "cell_type": "code",
   "execution_count": 73,
   "id": "686d4664-e820-4f79-9e92-d3e101a61660",
   "metadata": {
    "tags": []
   },
   "outputs": [
    {
     "data": {
      "text/plain": [
       "'Accounting in business'"
      ]
     },
     "execution_count": 73,
     "metadata": {},
     "output_type": "execute_result"
    }
   ],
   "source": [
    "data_dict[\"title\"]"
   ]
  },
  {
   "cell_type": "code",
   "execution_count": 77,
   "id": "5a5cdb61-6ec0-4ebb-acb4-d54f9e724c8c",
   "metadata": {},
   "outputs": [
    {
     "data": {
      "text/plain": [
       "[{'description': '<p>To be successful in this unit, background knowledge and application of maths is required at the equivalent of VCE Year 11 level.\\xa0 You may have satisfied this by completing relevant prerequisite unit/s, or you have covered relevant topics in your final years of secondary study.\\xa0 You should <a href=\"https://www.monash.edu/business/current-students/course-advice-and-planning\" target=\"_blank\">self-assess</a> your maths competency prior to enrolling in this unit.</p>',\n",
       "  'academic_item': {'value': 'ACB1020',\n",
       "   'cl_id': '01123417db1a0510101196cbd3961934',\n",
       "   'key': 'code'},\n",
       "  'type': {'label': 'Enrolment Rule', 'value': 'info'},\n",
       "  'cl_id': '45123417db1a0510101196cbd3961958'}]"
      ]
     },
     "execution_count": 77,
     "metadata": {},
     "output_type": "execute_result"
    }
   ],
   "source": [
    "data_dict[\"enrolment_rules\"]"
   ]
  },
  {
   "cell_type": "code",
   "execution_count": 76,
   "id": "7e462eb5-fd1e-48e2-a976-4da2e6e676bc",
   "metadata": {},
   "outputs": [
    {
     "data": {
      "text/plain": [
       "[{'academic_item_code': 'ACB1020',\n",
       "  'active': 'true',\n",
       "  'requisite_cl_id': '4d123417db1a0510101196cbd396193a',\n",
       "  'description': '',\n",
       "  'requisite_type': {'label': 'Prohibition', 'value': 'prohibitions'},\n",
       "  'cl_id': {'value': 'ACB1020',\n",
       "   'cl_id': '01123417db1a0510101196cbd3961934',\n",
       "   'key': 'code'},\n",
       "  'academic_item_version_number': '2022.08',\n",
       "  'order': '1',\n",
       "  'start_date': '',\n",
       "  'end_date': '',\n",
       "  'container': [{'cl_id': '45123417db1a0510101196cbd396194c',\n",
       "    'parent_container_table': 'x_f5sl_cl_requisite',\n",
       "    'parent_record': {'value': 'Relationship Builder: ACB1020',\n",
       "     'cl_id': '4d123417db1a0510101196cbd396193a',\n",
       "     'key': 'academic_item',\n",
       "     'type': 'x_f5sl_cl_requisite'},\n",
       "    'title': 'Container 1',\n",
       "    'parent_connector': {'label': 'OR', 'value': 'OR'},\n",
       "    'containers': [],\n",
       "    'relationships': [{'academic_item': {'value': 'Unit: ACC1200',\n",
       "       'cl_id': '43c43c02dba637001092bd16f496197b',\n",
       "       'key': 'code',\n",
       "       'type': 'x_f5sl_cl_subjects'},\n",
       "      'parent_record': {'value': 'Container 1',\n",
       "       'cl_id': '45123417db1a0510101196cbd396194c',\n",
       "       'key': 'title'},\n",
       "      'order': '8',\n",
       "      'cl_id': '43c43c02dba637001092bd16f496197b',\n",
       "      'academic_item_type': {'label': 'Unit', 'value': 'subject'},\n",
       "      'abbr_name': 'ACC FOR MNGRS',\n",
       "      'academic_item_version_name': '2020.01',\n",
       "      'academic_item_credit_points': '6',\n",
       "      'abbreviated_name_and_major': None,\n",
       "      'academic_item_name': 'Accounting for managers',\n",
       "      'academic_item_code': 'ACC1200',\n",
       "      'academic_item_url': '/2020/units/ACC1200'},\n",
       "     {'academic_item': {'value': 'Unit: ACW1120',\n",
       "       'cl_id': '25d562f3dbaef70082e291f38a961915',\n",
       "       'key': 'code',\n",
       "       'type': 'x_f5sl_cl_subjects'},\n",
       "      'parent_record': {'value': 'Container 1',\n",
       "       'cl_id': '45123417db1a0510101196cbd396194c',\n",
       "       'key': 'title'},\n",
       "      'order': '12',\n",
       "      'cl_id': '25d562f3dbaef70082e291f38a961915',\n",
       "      'academic_item_type': {'label': 'Unit', 'value': 'subject'},\n",
       "      'abbr_name': 'FIN ACC 1',\n",
       "      'academic_item_version_name': '2020.01',\n",
       "      'academic_item_credit_points': '6',\n",
       "      'abbreviated_name_and_major': None,\n",
       "      'academic_item_name': 'Financial accounting 1',\n",
       "      'academic_item_code': 'ACW1120',\n",
       "      'academic_item_url': '/2020/units/ACW1120'},\n",
       "     {'academic_item': {'value': 'Unit: ACB1120',\n",
       "       'cl_id': 'd23d85d9db66b30082e291f38a9619eb',\n",
       "       'key': 'code',\n",
       "       'type': 'x_f5sl_cl_subjects'},\n",
       "      'parent_record': {'value': 'Container 1',\n",
       "       'cl_id': '45123417db1a0510101196cbd396194c',\n",
       "       'key': 'title'},\n",
       "      'order': '3',\n",
       "      'cl_id': 'd23d85d9db66b30082e291f38a9619eb',\n",
       "      'academic_item_type': {'label': 'Unit', 'value': 'subject'},\n",
       "      'abbr_name': 'INTRO FIN ACC',\n",
       "      'academic_item_version_name': '2020.01',\n",
       "      'academic_item_credit_points': '6',\n",
       "      'abbreviated_name_and_major': None,\n",
       "      'academic_item_name': 'Financial accounting 1',\n",
       "      'academic_item_code': 'ACB1120',\n",
       "      'academic_item_url': '/2020/units/ACB1120'},\n",
       "     {'academic_item': {'value': 'Unit: ACF1100',\n",
       "       'cl_id': '84c83716db48441082e291f38a961950',\n",
       "       'key': 'code',\n",
       "       'type': 'x_f5sl_cl_subjects'},\n",
       "      'parent_record': {'value': 'Container 1',\n",
       "       'cl_id': '45123417db1a0510101196cbd396194c',\n",
       "       'key': 'title'},\n",
       "      'order': '9',\n",
       "      'cl_id': '84c83716db48441082e291f38a961950',\n",
       "      'academic_item_type': {'label': 'Unit', 'value': 'subject'},\n",
       "      'abbr_name': 'INTRO FIN ACC',\n",
       "      'academic_item_version_name': '2020.02',\n",
       "      'academic_item_credit_points': '6',\n",
       "      'abbreviated_name_and_major': None,\n",
       "      'academic_item_name': 'Introduction to financial accounting',\n",
       "      'academic_item_code': 'ACF1100',\n",
       "      'academic_item_url': '/2020/units/ACF1100'},\n",
       "     {'academic_item': {'value': 'Unit: ACX1100',\n",
       "       'cl_id': 'ef218706db0b6094101196cbd396199c',\n",
       "       'key': 'code',\n",
       "       'type': 'x_f5sl_cl_subjects'},\n",
       "      'parent_record': {'value': 'Container 1',\n",
       "       'cl_id': '45123417db1a0510101196cbd396194c',\n",
       "       'key': 'title'},\n",
       "      'order': '13',\n",
       "      'cl_id': 'ef218706db0b6094101196cbd396199c',\n",
       "      'academic_item_type': {'label': 'Unit', 'value': 'subject'},\n",
       "      'abbr_name': 'INTRO FIN ACC',\n",
       "      'academic_item_version_name': '2021.01',\n",
       "      'academic_item_credit_points': '6',\n",
       "      'abbreviated_name_and_major': None,\n",
       "      'academic_item_name': 'Introduction to financial accounting',\n",
       "      'academic_item_code': 'ACX1100',\n",
       "      'academic_item_url': '/2021/units/ACX1100'},\n",
       "     {'academic_item': {'value': 'Unit: ACF1200',\n",
       "       'cl_id': '9bb75d7ddb5e3b409ef3147a3a96192b',\n",
       "       'key': 'code',\n",
       "       'type': 'x_f5sl_cl_subjects'},\n",
       "      'parent_record': {'value': 'Container 1',\n",
       "       'cl_id': '45123417db1a0510101196cbd396194c',\n",
       "       'key': 'title'},\n",
       "      'order': '10',\n",
       "      'cl_id': '9bb75d7ddb5e3b409ef3147a3a96192b',\n",
       "      'academic_item_type': {'label': 'Unit', 'value': 'subject'},\n",
       "      'abbr_name': 'ACC FOR MNGRS',\n",
       "      'academic_item_version_name': '2020.01',\n",
       "      'academic_item_credit_points': '6',\n",
       "      'abbreviated_name_and_major': None,\n",
       "      'academic_item_name': 'Accounting for managers',\n",
       "      'academic_item_code': 'ACF1200',\n",
       "      'academic_item_url': '/2020/units/ACF1200'},\n",
       "     {'academic_item': {'value': 'Unit: ACX1200',\n",
       "       'cl_id': '74c001dbdb1b20502bdd077cd396191d',\n",
       "       'key': 'code',\n",
       "       'type': 'x_f5sl_cl_subjects'},\n",
       "      'parent_record': {'value': 'Container 1',\n",
       "       'cl_id': '45123417db1a0510101196cbd396194c',\n",
       "       'key': 'title'},\n",
       "      'order': '14',\n",
       "      'cl_id': '74c001dbdb1b20502bdd077cd396191d',\n",
       "      'academic_item_type': {'label': 'Unit', 'value': 'subject'},\n",
       "      'abbr_name': 'ACC FOR MNGRS',\n",
       "      'academic_item_version_name': '2021.02',\n",
       "      'academic_item_credit_points': '6',\n",
       "      'abbreviated_name_and_major': None,\n",
       "      'academic_item_name': 'Accounting for managers',\n",
       "      'academic_item_code': 'ACX1200',\n",
       "      'academic_item_url': '/2021/units/ACX1200'},\n",
       "     {'academic_item': {'value': 'Unit: ACC1100',\n",
       "       'cl_id': '4da1b937db1377001092bd16f4961902',\n",
       "       'key': 'code',\n",
       "       'type': 'x_f5sl_cl_subjects'},\n",
       "      'parent_record': {'value': 'Container 1',\n",
       "       'cl_id': '45123417db1a0510101196cbd396194c',\n",
       "       'key': 'title'},\n",
       "      'order': '7',\n",
       "      'cl_id': '4da1b937db1377001092bd16f4961902',\n",
       "      'academic_item_type': {'label': 'Unit', 'value': 'subject'},\n",
       "      'abbr_name': 'INTRO TO FIN ACC',\n",
       "      'academic_item_version_name': '2020.02',\n",
       "      'academic_item_credit_points': '6',\n",
       "      'abbreviated_name_and_major': None,\n",
       "      'academic_item_name': 'Introduction to financial accounting',\n",
       "      'academic_item_code': 'ACC1100',\n",
       "      'academic_item_url': '/2020/units/ACC1100'},\n",
       "     {'academic_item': {'value': 'Unit: ACW1020',\n",
       "       'cl_id': 'c7aede7fdb6ef70082e291f38a9619aa',\n",
       "       'key': 'code',\n",
       "       'type': 'x_f5sl_cl_subjects'},\n",
       "      'parent_record': {'value': 'Container 1',\n",
       "       'cl_id': '45123417db1a0510101196cbd396194c',\n",
       "       'key': 'title'},\n",
       "      'order': '11',\n",
       "      'cl_id': 'c7aede7fdb6ef70082e291f38a9619aa',\n",
       "      'academic_item_type': {'label': 'Unit', 'value': 'subject'},\n",
       "      'abbr_name': 'ACC IN BUSINESS',\n",
       "      'academic_item_version_name': '2020.01',\n",
       "      'academic_item_credit_points': '6',\n",
       "      'abbreviated_name_and_major': None,\n",
       "      'academic_item_name': 'Accounting in business',\n",
       "      'academic_item_code': 'ACW1020',\n",
       "      'academic_item_url': '/2020/units/ACW1020'}]}]}]"
      ]
     },
     "execution_count": 76,
     "metadata": {},
     "output_type": "execute_result"
    }
   ],
   "source": [
    "data_dict[\"requisites\"]"
   ]
  },
  {
   "cell_type": "code",
   "execution_count": 78,
   "id": "1eefc3d8-5bae-40da-b4ed-d704b3a68af1",
   "metadata": {
    "tags": []
   },
   "outputs": [
    {
     "data": {
      "text/plain": [
       "{'label': 'Prohibition', 'value': 'prohibitions'}"
      ]
     },
     "execution_count": 78,
     "metadata": {},
     "output_type": "execute_result"
    }
   ],
   "source": [
    "data_dict[\"requisites\"][0][\"requisite_type\"]"
   ]
  },
  {
   "cell_type": "code",
   "execution_count": 80,
   "id": "203c53d4-317c-4c04-b6ee-9b4713be7f83",
   "metadata": {},
   "outputs": [
    {
     "data": {
      "text/plain": [
       "[{'cl_id': '45123417db1a0510101196cbd396194c',\n",
       "  'parent_container_table': 'x_f5sl_cl_requisite',\n",
       "  'parent_record': {'value': 'Relationship Builder: ACB1020',\n",
       "   'cl_id': '4d123417db1a0510101196cbd396193a',\n",
       "   'key': 'academic_item',\n",
       "   'type': 'x_f5sl_cl_requisite'},\n",
       "  'title': 'Container 1',\n",
       "  'parent_connector': {'label': 'OR', 'value': 'OR'},\n",
       "  'containers': [],\n",
       "  'relationships': [{'academic_item': {'value': 'Unit: ACC1200',\n",
       "     'cl_id': '43c43c02dba637001092bd16f496197b',\n",
       "     'key': 'code',\n",
       "     'type': 'x_f5sl_cl_subjects'},\n",
       "    'parent_record': {'value': 'Container 1',\n",
       "     'cl_id': '45123417db1a0510101196cbd396194c',\n",
       "     'key': 'title'},\n",
       "    'order': '8',\n",
       "    'cl_id': '43c43c02dba637001092bd16f496197b',\n",
       "    'academic_item_type': {'label': 'Unit', 'value': 'subject'},\n",
       "    'abbr_name': 'ACC FOR MNGRS',\n",
       "    'academic_item_version_name': '2020.01',\n",
       "    'academic_item_credit_points': '6',\n",
       "    'abbreviated_name_and_major': None,\n",
       "    'academic_item_name': 'Accounting for managers',\n",
       "    'academic_item_code': 'ACC1200',\n",
       "    'academic_item_url': '/2020/units/ACC1200'},\n",
       "   {'academic_item': {'value': 'Unit: ACW1120',\n",
       "     'cl_id': '25d562f3dbaef70082e291f38a961915',\n",
       "     'key': 'code',\n",
       "     'type': 'x_f5sl_cl_subjects'},\n",
       "    'parent_record': {'value': 'Container 1',\n",
       "     'cl_id': '45123417db1a0510101196cbd396194c',\n",
       "     'key': 'title'},\n",
       "    'order': '12',\n",
       "    'cl_id': '25d562f3dbaef70082e291f38a961915',\n",
       "    'academic_item_type': {'label': 'Unit', 'value': 'subject'},\n",
       "    'abbr_name': 'FIN ACC 1',\n",
       "    'academic_item_version_name': '2020.01',\n",
       "    'academic_item_credit_points': '6',\n",
       "    'abbreviated_name_and_major': None,\n",
       "    'academic_item_name': 'Financial accounting 1',\n",
       "    'academic_item_code': 'ACW1120',\n",
       "    'academic_item_url': '/2020/units/ACW1120'},\n",
       "   {'academic_item': {'value': 'Unit: ACB1120',\n",
       "     'cl_id': 'd23d85d9db66b30082e291f38a9619eb',\n",
       "     'key': 'code',\n",
       "     'type': 'x_f5sl_cl_subjects'},\n",
       "    'parent_record': {'value': 'Container 1',\n",
       "     'cl_id': '45123417db1a0510101196cbd396194c',\n",
       "     'key': 'title'},\n",
       "    'order': '3',\n",
       "    'cl_id': 'd23d85d9db66b30082e291f38a9619eb',\n",
       "    'academic_item_type': {'label': 'Unit', 'value': 'subject'},\n",
       "    'abbr_name': 'INTRO FIN ACC',\n",
       "    'academic_item_version_name': '2020.01',\n",
       "    'academic_item_credit_points': '6',\n",
       "    'abbreviated_name_and_major': None,\n",
       "    'academic_item_name': 'Financial accounting 1',\n",
       "    'academic_item_code': 'ACB1120',\n",
       "    'academic_item_url': '/2020/units/ACB1120'},\n",
       "   {'academic_item': {'value': 'Unit: ACF1100',\n",
       "     'cl_id': '84c83716db48441082e291f38a961950',\n",
       "     'key': 'code',\n",
       "     'type': 'x_f5sl_cl_subjects'},\n",
       "    'parent_record': {'value': 'Container 1',\n",
       "     'cl_id': '45123417db1a0510101196cbd396194c',\n",
       "     'key': 'title'},\n",
       "    'order': '9',\n",
       "    'cl_id': '84c83716db48441082e291f38a961950',\n",
       "    'academic_item_type': {'label': 'Unit', 'value': 'subject'},\n",
       "    'abbr_name': 'INTRO FIN ACC',\n",
       "    'academic_item_version_name': '2020.02',\n",
       "    'academic_item_credit_points': '6',\n",
       "    'abbreviated_name_and_major': None,\n",
       "    'academic_item_name': 'Introduction to financial accounting',\n",
       "    'academic_item_code': 'ACF1100',\n",
       "    'academic_item_url': '/2020/units/ACF1100'},\n",
       "   {'academic_item': {'value': 'Unit: ACX1100',\n",
       "     'cl_id': 'ef218706db0b6094101196cbd396199c',\n",
       "     'key': 'code',\n",
       "     'type': 'x_f5sl_cl_subjects'},\n",
       "    'parent_record': {'value': 'Container 1',\n",
       "     'cl_id': '45123417db1a0510101196cbd396194c',\n",
       "     'key': 'title'},\n",
       "    'order': '13',\n",
       "    'cl_id': 'ef218706db0b6094101196cbd396199c',\n",
       "    'academic_item_type': {'label': 'Unit', 'value': 'subject'},\n",
       "    'abbr_name': 'INTRO FIN ACC',\n",
       "    'academic_item_version_name': '2021.01',\n",
       "    'academic_item_credit_points': '6',\n",
       "    'abbreviated_name_and_major': None,\n",
       "    'academic_item_name': 'Introduction to financial accounting',\n",
       "    'academic_item_code': 'ACX1100',\n",
       "    'academic_item_url': '/2021/units/ACX1100'},\n",
       "   {'academic_item': {'value': 'Unit: ACF1200',\n",
       "     'cl_id': '9bb75d7ddb5e3b409ef3147a3a96192b',\n",
       "     'key': 'code',\n",
       "     'type': 'x_f5sl_cl_subjects'},\n",
       "    'parent_record': {'value': 'Container 1',\n",
       "     'cl_id': '45123417db1a0510101196cbd396194c',\n",
       "     'key': 'title'},\n",
       "    'order': '10',\n",
       "    'cl_id': '9bb75d7ddb5e3b409ef3147a3a96192b',\n",
       "    'academic_item_type': {'label': 'Unit', 'value': 'subject'},\n",
       "    'abbr_name': 'ACC FOR MNGRS',\n",
       "    'academic_item_version_name': '2020.01',\n",
       "    'academic_item_credit_points': '6',\n",
       "    'abbreviated_name_and_major': None,\n",
       "    'academic_item_name': 'Accounting for managers',\n",
       "    'academic_item_code': 'ACF1200',\n",
       "    'academic_item_url': '/2020/units/ACF1200'},\n",
       "   {'academic_item': {'value': 'Unit: ACX1200',\n",
       "     'cl_id': '74c001dbdb1b20502bdd077cd396191d',\n",
       "     'key': 'code',\n",
       "     'type': 'x_f5sl_cl_subjects'},\n",
       "    'parent_record': {'value': 'Container 1',\n",
       "     'cl_id': '45123417db1a0510101196cbd396194c',\n",
       "     'key': 'title'},\n",
       "    'order': '14',\n",
       "    'cl_id': '74c001dbdb1b20502bdd077cd396191d',\n",
       "    'academic_item_type': {'label': 'Unit', 'value': 'subject'},\n",
       "    'abbr_name': 'ACC FOR MNGRS',\n",
       "    'academic_item_version_name': '2021.02',\n",
       "    'academic_item_credit_points': '6',\n",
       "    'abbreviated_name_and_major': None,\n",
       "    'academic_item_name': 'Accounting for managers',\n",
       "    'academic_item_code': 'ACX1200',\n",
       "    'academic_item_url': '/2021/units/ACX1200'},\n",
       "   {'academic_item': {'value': 'Unit: ACC1100',\n",
       "     'cl_id': '4da1b937db1377001092bd16f4961902',\n",
       "     'key': 'code',\n",
       "     'type': 'x_f5sl_cl_subjects'},\n",
       "    'parent_record': {'value': 'Container 1',\n",
       "     'cl_id': '45123417db1a0510101196cbd396194c',\n",
       "     'key': 'title'},\n",
       "    'order': '7',\n",
       "    'cl_id': '4da1b937db1377001092bd16f4961902',\n",
       "    'academic_item_type': {'label': 'Unit', 'value': 'subject'},\n",
       "    'abbr_name': 'INTRO TO FIN ACC',\n",
       "    'academic_item_version_name': '2020.02',\n",
       "    'academic_item_credit_points': '6',\n",
       "    'abbreviated_name_and_major': None,\n",
       "    'academic_item_name': 'Introduction to financial accounting',\n",
       "    'academic_item_code': 'ACC1100',\n",
       "    'academic_item_url': '/2020/units/ACC1100'},\n",
       "   {'academic_item': {'value': 'Unit: ACW1020',\n",
       "     'cl_id': 'c7aede7fdb6ef70082e291f38a9619aa',\n",
       "     'key': 'code',\n",
       "     'type': 'x_f5sl_cl_subjects'},\n",
       "    'parent_record': {'value': 'Container 1',\n",
       "     'cl_id': '45123417db1a0510101196cbd396194c',\n",
       "     'key': 'title'},\n",
       "    'order': '11',\n",
       "    'cl_id': 'c7aede7fdb6ef70082e291f38a9619aa',\n",
       "    'academic_item_type': {'label': 'Unit', 'value': 'subject'},\n",
       "    'abbr_name': 'ACC IN BUSINESS',\n",
       "    'academic_item_version_name': '2020.01',\n",
       "    'academic_item_credit_points': '6',\n",
       "    'abbreviated_name_and_major': None,\n",
       "    'academic_item_name': 'Accounting in business',\n",
       "    'academic_item_code': 'ACW1020',\n",
       "    'academic_item_url': '/2020/units/ACW1020'}]}]"
      ]
     },
     "execution_count": 80,
     "metadata": {},
     "output_type": "execute_result"
    }
   ],
   "source": [
    "data_dict[\"requisites\"][0][\"container\"]"
   ]
  },
  {
   "cell_type": "code",
   "execution_count": 87,
   "id": "38532fe6-ba2b-434c-95ab-e42011833f4e",
   "metadata": {},
   "outputs": [
    {
     "data": {
      "text/plain": [
       "{'academic_item': {'value': 'Unit: ACC1200',\n",
       "  'cl_id': '43c43c02dba637001092bd16f496197b',\n",
       "  'key': 'code',\n",
       "  'type': 'x_f5sl_cl_subjects'},\n",
       " 'parent_record': {'value': 'Container 1',\n",
       "  'cl_id': '45123417db1a0510101196cbd396194c',\n",
       "  'key': 'title'},\n",
       " 'order': '8',\n",
       " 'cl_id': '43c43c02dba637001092bd16f496197b',\n",
       " 'academic_item_type': {'label': 'Unit', 'value': 'subject'},\n",
       " 'abbr_name': 'ACC FOR MNGRS',\n",
       " 'academic_item_version_name': '2020.01',\n",
       " 'academic_item_credit_points': '6',\n",
       " 'abbreviated_name_and_major': None,\n",
       " 'academic_item_name': 'Accounting for managers',\n",
       " 'academic_item_code': 'ACC1200',\n",
       " 'academic_item_url': '/2020/units/ACC1200'}"
      ]
     },
     "execution_count": 87,
     "metadata": {},
     "output_type": "execute_result"
    }
   ],
   "source": [
    "data_dict[\"requisites\"][0][\"container\"][0][\"relationships\"][0]"
   ]
  },
  {
   "cell_type": "code",
   "execution_count": 85,
   "id": "25ae1f0c-902b-4f36-9620-35fcab446418",
   "metadata": {},
   "outputs": [
    {
     "data": {
      "text/plain": [
       "'ACC1200'"
      ]
     },
     "execution_count": 85,
     "metadata": {},
     "output_type": "execute_result"
    }
   ],
   "source": [
    "data_dict[\"requisites\"][0][\"container\"][0][\"relationships\"][0][\"academic_item_code\"]"
   ]
  },
  {
   "cell_type": "code",
   "execution_count": 86,
   "id": "997b2e66-04bf-4cee-bbc9-027544898a24",
   "metadata": {},
   "outputs": [
    {
     "data": {
      "text/plain": [
       "'Accounting for managers'"
      ]
     },
     "execution_count": 86,
     "metadata": {},
     "output_type": "execute_result"
    }
   ],
   "source": [
    "data_dict[\"requisites\"][0][\"container\"][0][\"relationships\"][0][\"academic_item_name\"]"
   ]
  }
 ],
 "metadata": {
  "kernelspec": {
   "display_name": "Python 3 (ipykernel)",
   "language": "python",
   "name": "python3"
  },
  "language_info": {
   "codemirror_mode": {
    "name": "ipython",
    "version": 3
   },
   "file_extension": ".py",
   "mimetype": "text/x-python",
   "name": "python",
   "nbconvert_exporter": "python",
   "pygments_lexer": "ipython3",
   "version": "3.10.5"
  }
 },
 "nbformat": 4,
 "nbformat_minor": 5
}
