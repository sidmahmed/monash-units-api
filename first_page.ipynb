{
 "cells": [
  {
   "cell_type": "code",
   "execution_count": 1,
   "id": "b8239a36-23c5-456d-a2fe-ceee32c023df",
   "metadata": {},
   "outputs": [],
   "source": [
    "import requests\n",
    "import json"
   ]
  },
  {
   "cell_type": "code",
   "execution_count": 2,
   "id": "aa965314-19f5-4806-8f93-7d80c6f334ad",
   "metadata": {},
   "outputs": [],
   "source": [
    "api_url = \"https://handbook.monash.edu/api/es/search\""
   ]
  },
  {
   "cell_type": "code",
   "execution_count": 8,
   "id": "2f0f33d0-61a7-4c4c-ae27-2f6cf7c12630",
   "metadata": {},
   "outputs": [],
   "source": [
    "request_json = {\n",
    "    \"query\": {\n",
    "        \"bool\": {\n",
    "            \"must\": [\n",
    "                {\"term\": {\"live\": True}},\n",
    "                [\n",
    "                    {\n",
    "                        \"bool\": {\n",
    "                            \"minimum_should_match\": \"100%\",\n",
    "                            \"should\": [\n",
    "                                {\n",
    "                                    \"query_string\": {\n",
    "                                        \"fields\": [\n",
    "                                            \"monash2_psubject.implementationYear\"\n",
    "                                        ],\n",
    "                                        \"query\": \"*2022*\",\n",
    "                                    }\n",
    "                                }\n",
    "                            ],\n",
    "                        }\n",
    "                    }\n",
    "                ],\n",
    "            ],\n",
    "            \"filter\": [{\"terms\": {\"contenttype\": [\"monash2_psubject\"]}}],\n",
    "        }\n",
    "    },\n",
    "    \"sort\": [{\"monash2_psubject.code_dotraw\": {\"order\": \"asc\"}}],\n",
    "    \"from\": 0,\n",
    "    \"size\": 20,\n",
    "    \"track_scores\": True,\n",
    "    \"_source\": {\n",
    "        \"includes\": [\n",
    "            \"*.code\",\n",
    "            \"*.name\",\n",
    "            \"*.award_titles\",\n",
    "            \"*.keywords\",\n",
    "            \"urlmap\",\n",
    "            \"contenttype\",\n",
    "        ],\n",
    "        \"excludes\": [\"\", None],\n",
    "    },\n",
    "}\n"
   ]
  },
  {
   "cell_type": "code",
   "execution_count": 9,
   "id": "5fd2152f-e468-4601-925b-6e8339f6a76f",
   "metadata": {},
   "outputs": [],
   "source": [
    "response = requests.post(api_url, json=request_json)"
   ]
  },
  {
   "cell_type": "code",
   "execution_count": 11,
   "id": "110c277a-1c9a-48fd-8518-89f783ce425b",
   "metadata": {},
   "outputs": [],
   "source": [
    "response_json = response.json()"
   ]
  },
  {
   "cell_type": "code",
   "execution_count": 15,
   "id": "d7d894b7-728d-4afe-892f-890e8e58cdba",
   "metadata": {},
   "outputs": [
    {
     "data": {
      "text/plain": [
       "20"
      ]
     },
     "execution_count": 15,
     "metadata": {},
     "output_type": "execute_result"
    }
   ],
   "source": [
    "len(response_json[\"contentlets\"])"
   ]
  },
  {
   "cell_type": "code",
   "execution_count": 19,
   "id": "46eecd9a-fd3e-4b00-a4fe-234281f58206",
   "metadata": {},
   "outputs": [
    {
     "data": {
      "text/plain": [
       "dict_keys(['hostName', 'modDate', 'creditPoints', 'code', 'data', 'studyLevel', 'title', 'contentTypeLabel', 'baseType', 'inode', 'mode', 'archived', 'host', 'working', 'locked', 'stInode', 'contentType', 'live', 'academicOrg', 'owner', 'identifier', 'level', 'studyLevelValue', 'languageId', 'active', 'teachingPeriod', 'URL_MAP_FOR_CONTENT', 'version', 'parentAcademicOrg', 'url', 'titleImage', 'modUserName', 'implementationYear', 'urlMap', 'folder', 'hasTitleImage', 'publishedInHandbook', 'sortOrder', 'modUser', 'location', 'levelDisplay', 'status'])"
      ]
     },
     "execution_count": 19,
     "metadata": {},
     "output_type": "execute_result"
    }
   ],
   "source": [
    "response_json[\"contentlets\"][0].keys()"
   ]
  },
  {
   "cell_type": "code",
   "execution_count": 23,
   "id": "b306b292-d479-4eb1-b51d-8c1cf9c3803d",
   "metadata": {},
   "outputs": [
    {
     "data": {
      "text/plain": [
       "'{\"published_in_handbook\":{\"label\":\"Yes\",\"value\":\"1\"},\"implementation_year\":\"2022\",\"duration_ft_max\":\"\",\"asced_detailed\":{\"value\":\"\",\"cl_id\":null,\"key\":\"display_value\"},\"grading_schema\":{\"label\":null,\"value\":null},\"study_level\":[],\"quota_enrolment_requirements\":\"\",\"status\":{\"label\":\"Accredited\",\"value\":\"Active\"},\"duration_pt_max\":\"\",\"duration_pt_std\":\"\",\"credit_points\":\"6\",\"parent_id\":{\"value\":\"Master Record: ACB1020\",\"cl_id\":\"f626a19ddba6b30082e291f38a9619e3\",\"key\":\"code\",\"type\":\"x_f5sl_cl_master_record\"},\"start_date\":\"\",\"exclusions\":\"\",\"unit_code\":\"ACB1020\",\"academic_org\":{\"value\":\"Department of Accounting\",\"cl_id\":\"e5ffc617dba8a3406add773c349619ac\",\"key\":\"name\"},\"sms_version\":\"\",\"level\":{\"label\":\"Level 1\",\"value\":\"2\"},\"uac_code\":\"\",\"special_requirements\":\"\",\"duration_pt_min\":\"\",\"special_unit_type\":[],\"title\":\"Accounting in business\",\"duration_ft_std\":\"\",\"version\":\"8\",\"learning_experiences\":null,\"duration_ft_min\":\"\",\"callista_version\":\"\",\"duration_ft_period\":{\"label\":null,\"value\":null},\"asced_narrow\":{\"value\":\"\",\"cl_id\":null,\"key\":\"display_value\"},\"subclass\":{\"label\":\"Unit\",\"value\":\"subject\"},\"type\":{\"label\":\"Coursework\",\"value\":\"600\"},\"quota_rationale\":\"\",\"version_name\":\"2022.08\",\"timetable_this_unit\":\"true\",\"work_integrated_learning\":[{\"value\":\"None\",\"cl_id\":\"8ef5d77bdb122300e5cf3391f496191d\",\"key\":\"label\"}],\"cl_id\":\"01123417db1a0510101196cbd3961934\",\"school\":{\"value\":\"Faculty of Business and Economics\",\"cl_id\":\"4a488253dba8a3406add773c3496191c\",\"key\":\"name\"},\"content\":null,\"learning_and_teaching_resources\":null,\"collaborating_disciplines\":[],\"repeatable\":\"false\",\"overview\":\"\",\"end_date\":\"\",\"duration_pt_period\":{\"label\":null,\"value\":null},\"sms_status\":{\"label\":null,\"value\":null},\"learning_materials\":null,\"special_topic\":\"false\",\"asced_broad\":{\"value\":\"\",\"cl_id\":null,\"key\":\"display_value\"},\"publish_tuition_fees\":\"true\",\"placement_proportion\":{\"label\":null,\"value\":null},\"code\":\"ACB1020\",\"other_unit_costs\":\"\",\"eftsl\":{\"label\":\"0.125\",\"value\":\"0.125\"},\"contact_information\":\"\",\"highest_sca_band\":{\"label\":\"SCA Band 4\",\"value\":\"4\"},\"lo_additional_information\":\"<p>On successful completion of this unit, you should be able to:</p>\",\"handbook_assessment_summary\":\"\",\"quota_information\":\"\",\"fieldwork\":\"\",\"area_of_study_links\":\"\",\"attendance_requirements\":\"\",\"workload_requirements\":\"<p>Minimum total expected workload to achieve the learning outcomes for this unit is 144 hours per semester typically comprising a mixture of scheduled learning activities and independent study. Independent study may include associated readings, assessment and preparation for scheduled activities. The unit requires on average three/four hours of scheduled activities per week. Scheduled activities may include a combination of teacher directed learning, peer directed learning and online engagement.</p>\",\"handbook_synopsis\":\"<p>This unit introduces basic accounting concepts to non-accountants. The information requirements of two main groups of information users are examined - external users such as current and potential investors and internal users such as managers. This unit provides an introduction to the structure, meaning, analysis and interpretation of financial statements, in addition to exploring financial issues confronting managers, such as cost and performance measurement and budgeting.</p>\",\"special_note_to_students\":\"\",\"undergrad_postgrad_both\":{\"label\":\"Undergraduate\",\"value\":\"undergraduate\"},\"unit_learning_outcomes\":[{\"lo_domain\":[],\"order\":\"1\",\"number\":\"1\",\"code\":\"ULO1\",\"lo_cl_id\":\"09123417db1a0510101196cbd396193e\",\"lo_domain_description\":\"\",\"offerings\":[],\"linking_id\":\"be376d9ddba6b30082e291f38a9619fd\",\"academic_item\":{\"value\":\"ACB1020\",\"cl_id\":\"01123417db1a0510101196cbd3961934\",\"key\":\"code\"},\"description\":\"<p>demonstrate an understanding of various forms of business organisations</p>\",\"cl_id\":\"09123417db1a0510101196cbd396193e\",\"ga_map\":[]},{\"lo_domain\":[],\"order\":\"2\",\"number\":\"2\",\"code\":\"ULO2\",\"lo_cl_id\":\"41123417db1a0510101196cbd396193e\",\"lo_domain_description\":\"\",\"offerings\":[],\"linking_id\":\"47376d9ddba6b30082e291f38a961934\",\"academic_item\":{\"value\":\"ACB1020\",\"cl_id\":\"01123417db1a0510101196cbd3961934\",\"key\":\"code\"},\"description\":\"<p>apply financial and management accounting principles in the preparation of financial statements</p>\",\"cl_id\":\"41123417db1a0510101196cbd396193e\",\"ga_map\":[]},{\"lo_domain\":[],\"order\":\"4\",\"number\":\"4\",\"code\":\"ULO4\",\"lo_cl_id\":\"41123417db1a0510101196cbd396193f\",\"lo_domain_description\":\"\",\"offerings\":[],\"linking_id\":\"7337ed9ddba6b30082e291f38a961927\",\"academic_item\":{\"value\":\"ACB1020\",\"cl_id\":\"01123417db1a0510101196cbd3961934\",\"key\":\"code\"},\"description\":\"<p>measure and interpret financial and non-financial information for managers to use in planning, decision making and control</p>\",\"cl_id\":\"41123417db1a0510101196cbd396193f\",\"ga_map\":[]},{\"lo_domain\":[],\"order\":\"3\",\"number\":\"3\",\"code\":\"ULO3\",\"lo_cl_id\":\"8d123417db1a0510101196cbd396193e\",\"lo_domain_description\":\"\",\"offerings\":[],\"linking_id\":\"6737e99ddba6b30082e291f38a961985\",\"academic_item\":{\"value\":\"ACB1020\",\"cl_id\":\"01123417db1a0510101196cbd3961934\",\"key\":\"code\"},\"description\":\"<p>measure and interpret information relating to financial performance, financial position, liquidity and risk indicators of businesses</p>\",\"cl_id\":\"8d123417db1a0510101196cbd396193e\",\"ga_map\":[]},{\"lo_domain\":[],\"order\":\"5\",\"number\":\"5\",\"code\":\"ULO5\",\"lo_cl_id\":\"c9123417db1a0510101196cbd396193e\",\"lo_domain_description\":\"\",\"offerings\":[],\"linking_id\":\"4847e99ddba6b30082e291f38a961986\",\"academic_item\":{\"value\":\"ACB1020\",\"cl_id\":\"01123417db1a0510101196cbd3961934\",\"key\":\"code\"},\"description\":\"<p>develop the ability to work effectively in a team and/or independently and demonstrate the development of judgement, and skills in problem solving, critical thinking and analysis.</p>\",\"cl_id\":\"c9123417db1a0510101196cbd396193e\",\"ga_map\":[]}],\"school_org_unit_data\":[{\"parent\":{\"value\":\"\",\"cl_id\":null,\"key\":\"name\"},\"url\":\"https://www.monash.edu/business/home\",\"name\":\"Faculty of Business and Economics\",\"cl_id\":\"4a488253dba8a3406add773c3496191c\"}],\"assessments\":[{\"subject\":{\"value\":\"ACB1020\",\"cl_id\":\"01123417db1a0510101196cbd3961934\",\"key\":\"code\"},\"hurdle_type\":{\"label\":null,\"value\":null},\"hurdle_supplementary_assessment\":\"\",\"number\":\"1\",\"weight\":\"50\",\"cl_id\":\"41123417db1a0510101196cbd396195c\",\"assessment_name\":\"Within semester assessment \",\"description\":null,\"assessment_type\":{\"label\":null,\"value\":null},\"offerings_formatted\":\"\"},{\"subject\":{\"value\":\"ACB1020\",\"cl_id\":\"01123417db1a0510101196cbd3961934\",\"key\":\"code\"},\"hurdle_type\":{\"label\":\"Threshold\",\"value\":\"threshold\"},\"hurdle_supplementary_assessment\":\"<p>This unit contains a hurdle requirement that you must achieve to be able to pass the unit. The consequence of not achieving a hurdle requirement is a fail grade (NH) and a maximum mark of 45 for the unit.</p>\",\"number\":\"2\",\"weight\":\"50\",\"cl_id\":\"8d123417db1a0510101196cbd396195c\",\"assessment_name\":\"Examination\",\"description\":null,\"assessment_type\":{\"label\":null,\"value\":null},\"offerings_formatted\":\"\"}],\"enrolment_rules\":[{\"description\":\"<p>To be successful in this unit, background knowledge and application of maths is required at the equivalent of VCE Year 11 level.\\xa0 You may have satisfied this by completing relevant prerequisite unit/s, or you have covered relevant topics in your final years of secondary study.\\xa0 You should <a href=\\\\\"https://www.monash.edu/business/current-students/course-advice-and-planning\\\\\" target=\\\\\"_blank\\\\\">self-assess</a> your maths competency prior to enrolling in this unit.</p>\",\"academic_item\":{\"value\":\"ACB1020\",\"cl_id\":\"01123417db1a0510101196cbd3961934\",\"key\":\"code\"},\"type\":{\"label\":\"Enrolment Rule\",\"value\":\"info\"},\"cl_id\":\"45123417db1a0510101196cbd3961958\"}],\"requisites\":[{\"academic_item_code\":\"ACB1020\",\"active\":\"true\",\"requisite_cl_id\":\"4d123417db1a0510101196cbd396193a\",\"description\":\"\",\"requisite_type\":{\"label\":\"Prohibition\",\"value\":\"prohibitions\"},\"cl_id\":{\"value\":\"ACB1020\",\"cl_id\":\"01123417db1a0510101196cbd3961934\",\"key\":\"code\"},\"academic_item_version_number\":\"2022.08\",\"order\":\"1\",\"start_date\":\"\",\"end_date\":\"\",\"container\":[{\"cl_id\":\"45123417db1a0510101196cbd396194c\",\"parent_container_table\":\"x_f5sl_cl_requisite\",\"parent_record\":{\"value\":\"Relationship Builder: ACB1020\",\"cl_id\":\"4d123417db1a0510101196cbd396193a\",\"key\":\"academic_item\",\"type\":\"x_f5sl_cl_requisite\"},\"title\":\"Container 1\",\"parent_connector\":{\"label\":\"OR\",\"value\":\"OR\"},\"containers\":[],\"relationships\":[{\"academic_item\":{\"value\":\"Unit: ACC1200\",\"cl_id\":\"43c43c02dba637001092bd16f496197b\",\"key\":\"code\",\"type\":\"x_f5sl_cl_subjects\"},\"parent_record\":{\"value\":\"Container 1\",\"cl_id\":\"45123417db1a0510101196cbd396194c\",\"key\":\"title\"},\"order\":\"8\",\"cl_id\":\"43c43c02dba637001092bd16f496197b\",\"academic_item_type\":{\"label\":\"Unit\",\"value\":\"subject\"},\"abbr_name\":\"ACC FOR MNGRS\",\"academic_item_version_name\":\"2020.01\",\"academic_item_credit_points\":\"6\",\"abbreviated_name_and_major\":null,\"academic_item_name\":\"Accounting for managers\",\"academic_item_code\":\"ACC1200\",\"academic_item_url\":\"/2020/units/ACC1200\"},{\"academic_item\":{\"value\":\"Unit: ACW1120\",\"cl_id\":\"25d562f3dbaef70082e291f38a961915\",\"key\":\"code\",\"type\":\"x_f5sl_cl_subjects\"},\"parent_record\":{\"value\":\"Container 1\",\"cl_id\":\"45123417db1a0510101196cbd396194c\",\"key\":\"title\"},\"order\":\"12\",\"cl_id\":\"25d562f3dbaef70082e291f38a961915\",\"academic_item_type\":{\"label\":\"Unit\",\"value\":\"subject\"},\"abbr_name\":\"FIN ACC 1\",\"academic_item_version_name\":\"2020.01\",\"academic_item_credit_points\":\"6\",\"abbreviated_name_and_major\":null,\"academic_item_name\":\"Financial accounting 1\",\"academic_item_code\":\"ACW1120\",\"academic_item_url\":\"/2020/units/ACW1120\"},{\"academic_item\":{\"value\":\"Unit: ACB1120\",\"cl_id\":\"d23d85d9db66b30082e291f38a9619eb\",\"key\":\"code\",\"type\":\"x_f5sl_cl_subjects\"},\"parent_record\":{\"value\":\"Container 1\",\"cl_id\":\"45123417db1a0510101196cbd396194c\",\"key\":\"title\"},\"order\":\"3\",\"cl_id\":\"d23d85d9db66b30082e291f38a9619eb\",\"academic_item_type\":{\"label\":\"Unit\",\"value\":\"subject\"},\"abbr_name\":\"INTRO FIN ACC\",\"academic_item_version_name\":\"2020.01\",\"academic_item_credit_points\":\"6\",\"abbreviated_name_and_major\":null,\"academic_item_name\":\"Financial accounting 1\",\"academic_item_code\":\"ACB1120\",\"academic_item_url\":\"/2020/units/ACB1120\"},{\"academic_item\":{\"value\":\"Unit: ACF1100\",\"cl_id\":\"84c83716db48441082e291f38a961950\",\"key\":\"code\",\"type\":\"x_f5sl_cl_subjects\"},\"parent_record\":{\"value\":\"Container 1\",\"cl_id\":\"45123417db1a0510101196cbd396194c\",\"key\":\"title\"},\"order\":\"9\",\"cl_id\":\"84c83716db48441082e291f38a961950\",\"academic_item_type\":{\"label\":\"Unit\",\"value\":\"subject\"},\"abbr_name\":\"INTRO FIN ACC\",\"academic_item_version_name\":\"2020.02\",\"academic_item_credit_points\":\"6\",\"abbreviated_name_and_major\":null,\"academic_item_name\":\"Introduction to financial accounting\",\"academic_item_code\":\"ACF1100\",\"academic_item_url\":\"/2020/units/ACF1100\"},{\"academic_item\":{\"value\":\"Unit: ACX1100\",\"cl_id\":\"ef218706db0b6094101196cbd396199c\",\"key\":\"code\",\"type\":\"x_f5sl_cl_subjects\"},\"parent_record\":{\"value\":\"Container 1\",\"cl_id\":\"45123417db1a0510101196cbd396194c\",\"key\":\"title\"},\"order\":\"13\",\"cl_id\":\"ef218706db0b6094101196cbd396199c\",\"academic_item_type\":{\"label\":\"Unit\",\"value\":\"subject\"},\"abbr_name\":\"INTRO FIN ACC\",\"academic_item_version_name\":\"2021.01\",\"academic_item_credit_points\":\"6\",\"abbreviated_name_and_major\":null,\"academic_item_name\":\"Introduction to financial accounting\",\"academic_item_code\":\"ACX1100\",\"academic_item_url\":\"/2021/units/ACX1100\"},{\"academic_item\":{\"value\":\"Unit: ACF1200\",\"cl_id\":\"9bb75d7ddb5e3b409ef3147a3a96192b\",\"key\":\"code\",\"type\":\"x_f5sl_cl_subjects\"},\"parent_record\":{\"value\":\"Container 1\",\"cl_id\":\"45123417db1a0510101196cbd396194c\",\"key\":\"title\"},\"order\":\"10\",\"cl_id\":\"9bb75d7ddb5e3b409ef3147a3a96192b\",\"academic_item_type\":{\"label\":\"Unit\",\"value\":\"subject\"},\"abbr_name\":\"ACC FOR MNGRS\",\"academic_item_version_name\":\"2020.01\",\"academic_item_credit_points\":\"6\",\"abbreviated_name_and_major\":null,\"academic_item_name\":\"Accounting for managers\",\"academic_item_code\":\"ACF1200\",\"academic_item_url\":\"/2020/units/ACF1200\"},{\"academic_item\":{\"value\":\"Unit: ACX1200\",\"cl_id\":\"74c001dbdb1b20502bdd077cd396191d\",\"key\":\"code\",\"type\":\"x_f5sl_cl_subjects\"},\"parent_record\":{\"value\":\"Container 1\",\"cl_id\":\"45123417db1a0510101196cbd396194c\",\"key\":\"title\"},\"order\":\"14\",\"cl_id\":\"74c001dbdb1b20502bdd077cd396191d\",\"academic_item_type\":{\"label\":\"Unit\",\"value\":\"subject\"},\"abbr_name\":\"ACC FOR MNGRS\",\"academic_item_version_name\":\"2021.02\",\"academic_item_credit_points\":\"6\",\"abbreviated_name_and_major\":null,\"academic_item_name\":\"Accounting for managers\",\"academic_item_code\":\"ACX1200\",\"academic_item_url\":\"/2021/units/ACX1200\"},{\"academic_item\":{\"value\":\"Unit: ACC1100\",\"cl_id\":\"4da1b937db1377001092bd16f4961902\",\"key\":\"code\",\"type\":\"x_f5sl_cl_subjects\"},\"parent_record\":{\"value\":\"Container 1\",\"cl_id\":\"45123417db1a0510101196cbd396194c\",\"key\":\"title\"},\"order\":\"7\",\"cl_id\":\"4da1b937db1377001092bd16f4961902\",\"academic_item_type\":{\"label\":\"Unit\",\"value\":\"subject\"},\"abbr_name\":\"INTRO TO FIN ACC\",\"academic_item_version_name\":\"2020.02\",\"academic_item_credit_points\":\"6\",\"abbreviated_name_and_major\":null,\"academic_item_name\":\"Introduction to financial accounting\",\"academic_item_code\":\"ACC1100\",\"academic_item_url\":\"/2020/units/ACC1100\"},{\"academic_item\":{\"value\":\"Unit: ACW1020\",\"cl_id\":\"c7aede7fdb6ef70082e291f38a9619aa\",\"key\":\"code\",\"type\":\"x_f5sl_cl_subjects\"},\"parent_record\":{\"value\":\"Container 1\",\"cl_id\":\"45123417db1a0510101196cbd396194c\",\"key\":\"title\"},\"order\":\"11\",\"cl_id\":\"c7aede7fdb6ef70082e291f38a9619aa\",\"academic_item_type\":{\"label\":\"Unit\",\"value\":\"subject\"},\"abbr_name\":\"ACC IN BUSINESS\",\"academic_item_version_name\":\"2020.01\",\"academic_item_credit_points\":\"6\",\"abbreviated_name_and_major\":null,\"academic_item_name\":\"Accounting in business\",\"academic_item_code\":\"ACW1020\",\"academic_item_url\":\"/2020/units/ACW1020\"}]}]}],\"unit_offering\":[{\"fees_domestic\":\"\",\"publish\":\"true\",\"location\":{\"value\":\"Peninsula\",\"cl_id\":\"fff361e1db30a7406add773c34961930\",\"key\":\"name\"},\"name\":\"ACB1020-S1-01-ON-CAMPUS-PENINSULA\",\"clarification_to_appear_in_handbook\":\"\",\"display_name\":\"S1-01-PENINSULA-ON-CAMPUS\",\"teaching_period\":{\"value\":\"First semester\",\"cl_id\":\"0da429a1db30a7406add773c3496190c\",\"key\":\"name\"},\"attendance_mode\":{\"value\":\"On-campus\",\"cl_id\":\"7bf2311bdb68a3406add773c349619bb\",\"key\":\"description\"},\"quota_number\":\"\",\"study_level\":{\"label\":null,\"value\":null},\"offered\":\"true\",\"self_enrol\":\"true\",\"academic_item\":{\"value\":\"ACB1020\",\"cl_id\":\"01123417db1a0510101196cbd3961934\",\"key\":\"code\"},\"fees_commonwealth\":\"\",\"fees_international\":\"\",\"course_restrictions\":\"\",\"cl_id\":\"45123417db1a0510101196cbd396193c\"}],\"enrolment_rules_group\":[{\"rule_group\":\"Enrolment Rule\",\"rules\":[{\"description\":\"<p>To be successful in this unit, background knowledge and application of maths is required at the equivalent of VCE Year 11 level.\\xa0 You may have satisfied this by completing relevant prerequisite unit/s, or you have covered relevant topics in your final years of secondary study.\\xa0 You should <a href=\\\\\"https://www.monash.edu/business/current-students/course-advice-and-planning\\\\\" target=\\\\\"_blank\\\\\">self-assess</a> your maths competency prior to enrolling in this unit.</p>\",\"academic_item\":{\"value\":\"ACB1020\",\"cl_id\":\"01123417db1a0510101196cbd3961934\",\"key\":\"code\"},\"type\":{\"label\":\"Enrolment Rule\",\"value\":\"info\"},\"cl_id\":\"45123417db1a0510101196cbd3961958\",\"links\":[]}]}],\"learning_resources_grouped\":[{\"type\":\"Technology resources\",\"order\":2,\"resources\":[{\"description\":\"<p>The only Faculty approved calculators permitted in tests and examinations for all Australian campuses and locations is the HP10bII+ or Casio FX82 (any suffix).</p>\",\"type\":{\"label\":\"Technology resources\",\"value\":\"technology_resources\"},\"cl_id\":\"05123417db1a0510101196cbd3961959\",\"academic_item\":{\"value\":\"ACB1020\",\"cl_id\":\"01123417db1a0510101196cbd3961934\",\"key\":\"code\"},\"links\":[]}]},{\"type\":\"Required resources\",\"order\":0,\"resources\":[{\"description\":\"<p>Accounting: Business reporting for decision making (7th Edition) by Birt, Chalmers, Maloney, Brooks, Oliver and Bond. Publisher: Wiley (2020).</p>\",\"type\":{\"label\":\"Required resources\",\"value\":\"required_resources\"},\"cl_id\":\"4d123417db1a0510101196cbd396195a\",\"academic_item\":{\"value\":\"ACB1020\",\"cl_id\":\"01123417db1a0510101196cbd3961934\",\"key\":\"code\"},\"links\":[]}]}],\"study_abroad_unit\":\"Yes\",\"academic_item_type\":\"Unit\",\"learning_activities_grouped\":[{\"activity_type\":\"Lectures\",\"activities\":[{\"subject\":{\"value\":\"ACB1020\",\"cl_id\":\"01123417db1a0510101196cbd3961934\",\"key\":\"code\"},\"cl_id\":\"0d123417db1a0510101196cbd396195b\",\"order\":\"\",\"description\":\"\",\"activity_type\":{\"label\":\"Lectures\",\"value\":\"lecture\"},\"duration_display\":\"18 hours\",\"offerings_formatted_teaching_activities\":\"<ul><li>Applies to all offerings</li></ul>\",\"links\":[]}]},{\"activity_type\":\"Tutorials\",\"activities\":[{\"subject\":{\"value\":\"ACB1020\",\"cl_id\":\"01123417db1a0510101196cbd3961934\",\"key\":\"code\"},\"cl_id\":\"85123417db1a0510101196cbd396195b\",\"order\":\"\",\"description\":\"\",\"activity_type\":{\"label\":\"Tutorials\",\"value\":\"tutorial\"},\"duration_display\":\"18 hours\",\"offerings_formatted_teaching_activities\":\"<ul><li>Applies to all offerings</li></ul>\",\"links\":[]}]}],\"search_title\":\"ACB1020 - Accounting in business\",\"unit_search_title\":\"ACB1020 - Accounting in business\",\"teaching_approaches\":[{\"type\":{\"label\":\"Problem-based learning\",\"value\":\"problem_based_learning\"},\"academic_item\":{\"value\":\"ACB1020\",\"cl_id\":\"01123417db1a0510101196cbd3961934\",\"key\":\"code\"},\"cl_id\":\"89123417db1a0510101196cbd396195a\",\"description\":\"<p>This unit includes problem-based learning approaches, where students engage in research, integrate theory and practice and apply knowledge and skills to develop viable solutions in response to a problem or set of problems.</p>\",\"links\":[]},{\"type\":{\"label\":\"Active learning\",\"value\":\"active_learning\"},\"academic_item\":{\"value\":\"ACB1020\",\"cl_id\":\"01123417db1a0510101196cbd3961934\",\"key\":\"code\"},\"cl_id\":\"c1123417db1a0510101196cbd396195a\",\"description\":\"<p>This unit engages students in actively applying their knowledge, skills and attributes in interactive, collaborative and reflective activities.</p>\",\"links\":[]}],\"academic_contact_roles\":[{\"role\":\"Chief Examiner(s)\",\"contacts\":[{\"active\":\"true\",\"contact_department\":\"\",\"start_date\":\"\",\"offering\":{\"value\":\"\",\"cl_id\":null,\"key\":\"display_name\"},\"contact_role\":{\"label\":\"Chief Examiner\",\"value\":\"chief_examiner\"},\"contact_name\":\"Tao Tao\",\"role_detail\":\"\",\"contact_organisation\":\"\",\"contact_title\":\"Ms\",\"order\":\"1\",\"contact_phone\":\"\",\"end_date\":\"\",\"location\":{\"value\":\"\",\"cl_id\":null,\"key\":\"name\"},\"contact_email\":\"Tao.Tao@monash.edu\",\"contact_url\":\"\",\"user\":{\"value\":\"Tao Tao\",\"cl_id\":\"5e124b50dbb8b300580f42a01496197b\",\"key\":\"\"},\"offerings\":[],\"applies_to_all_offerings\":\"true\",\"linking_id\":\"18236e421bde8c904a942f002d4bcb68\",\"cl_id\":\"81123417db1a0510101196cbd396193d\",\"display_details\":\"Tao.Tao@monash.edu\",\"display_name\":\"Ms Tao Tao \",\"offerings_formatted_contact\":\"<ul><li>Applies to all offerings</ul></li>\",\"display_role_plural\":\"Chief Examiner(s)\",\"links\":[]}]}],\"links\":[]}'"
      ]
     },
     "execution_count": 23,
     "metadata": {},
     "output_type": "execute_result"
    }
   ],
   "source": [
    "response_json[\"contentlets\"][0][\"data\"]"
   ]
  },
  {
   "cell_type": "code",
   "execution_count": 24,
   "id": "f93f75a0-3adb-4e92-8e08-5d3f448a4c6d",
   "metadata": {},
   "outputs": [],
   "source": [
    "unit_data_str = response_json[\"contentlets\"][0][\"data\"]"
   ]
  },
  {
   "cell_type": "code",
   "execution_count": 26,
   "id": "72a4dd95-1c7b-41d0-8440-3d4e9d0783ca",
   "metadata": {},
   "outputs": [],
   "source": [
    "unit_data_dict = json.loads(unit_data_str)"
   ]
  },
  {
   "cell_type": "code",
   "execution_count": 27,
   "id": "ba0a0e6f-3ddc-4df4-96d2-37194f3b62fd",
   "metadata": {},
   "outputs": [
    {
     "data": {
      "text/plain": [
       "'ACB1020'"
      ]
     },
     "execution_count": 27,
     "metadata": {},
     "output_type": "execute_result"
    }
   ],
   "source": [
    "unit_data_dict[\"unit_code\"]"
   ]
  },
  {
   "cell_type": "code",
   "execution_count": 28,
   "id": "32023059-88d7-47db-93cf-7cb5d250b534",
   "metadata": {},
   "outputs": [
    {
     "data": {
      "text/plain": [
       "'Accounting in business'"
      ]
     },
     "execution_count": 28,
     "metadata": {},
     "output_type": "execute_result"
    }
   ],
   "source": [
    "unit_data_dict[\"title\"]"
   ]
  }
 ],
 "metadata": {
  "kernelspec": {
   "display_name": "Python 3 (ipykernel)",
   "language": "python",
   "name": "python3"
  },
  "language_info": {
   "codemirror_mode": {
    "name": "ipython",
    "version": 3
   },
   "file_extension": ".py",
   "mimetype": "text/x-python",
   "name": "python",
   "nbconvert_exporter": "python",
   "pygments_lexer": "ipython3",
   "version": "3.10.5"
  }
 },
 "nbformat": 4,
 "nbformat_minor": 5
}
